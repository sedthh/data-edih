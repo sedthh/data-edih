{
 "cells": [
  {
   "cell_type": "markdown",
   "metadata": {},
   "source": [
    "# Példa Notebook-ok\n",
    "\n",
    "Az OpenAI eléréséhez szükséges kulcsot a \"system.json\" fájlban tudod beállítani! "
   ]
  },
  {
   "cell_type": "code",
   "execution_count": 1,
   "metadata": {},
   "outputs": [],
   "source": [
    "from edih import EDIH_GPT"
   ]
  },
  {
   "cell_type": "markdown",
   "metadata": {},
   "source": [
    "### Egyszerű Chat"
   ]
  },
  {
   "cell_type": "code",
   "execution_count": 29,
   "metadata": {},
   "outputs": [
    {
     "data": {
      "text/plain": [
       "'Egy segítőkész magyar nyelvű chatbot vagy.'"
      ]
     },
     "execution_count": 29,
     "metadata": {},
     "output_type": "execute_result"
    }
   ],
   "source": [
    "context = \"\"\"Egy segítőkész magyar nyelvű chatbot vagy.\"\"\"\n",
    "example = EDIH_GPT(context)\n",
    "example.context"
   ]
  },
  {
   "cell_type": "code",
   "execution_count": 30,
   "metadata": {},
   "outputs": [
    {
     "name": "stdout",
     "output_type": "stream",
     "text": [
      "Szia, jól vagyok, köszönöm! Miben tudok segíteni neked?\n"
     ]
    }
   ],
   "source": [
    "print(example.chat(\"Szia, hogy vagy?\"))"
   ]
  },
  {
   "cell_type": "code",
   "execution_count": 31,
   "metadata": {},
   "outputs": [
    {
     "name": "stdout",
     "output_type": "stream",
     "text": [
      "Természetesen! A chatbotok számos területen nagyszerű segítséget nyújthatnak, például:\n",
      "\n",
      "- Ügyfélszolgálat: egy cégnél dolgozó chatbot lehet segítség az ügyfelek kérdéseire válaszolni, problémáikat megoldani\n",
      "- Vásárlás: egy webáruházban működő chatbot lehet segítség a vásárlóknak, hogy termékeket keressenek, vásárlási utasításokat nyújtsanak és támogassanak a csekkfolyamat során.\n",
      "- Időjárás: egy időjárás chatbot lehet segítség az emberek számára abban, hogy megkapják az aktuális időjárási jelentést, előrejelzést, vagy hogy megtudják, mikor lesz eső.\n",
      "- Egészségügy: orvosi chatbotok lehetnek segítségül orvosoknak és betegeknek is, hogy azonosítsák a tüneteket, nyújtsanak tájékoztatást vagy akár javasolhassák a megfelelő gyógyszereket és vizsgálatokat.\n",
      "- Oktatás: oktatási chatbotok feladatokat adhatnak a tanulóknak, megválaszolhatják a kérdéseiket, és segíthetnek a tanulmányokban.\n",
      "\n",
      "Ezek csak néhány példa, a chatbotok pedig egyre több és több területen használatosak világszerte.\n"
     ]
    }
   ],
   "source": [
    "# a chat beszélgetés folytatódik\n",
    "print(example.chat(\"Tudnál mondani példákat a felhasználásodra?\"))"
   ]
  },
  {
   "cell_type": "code",
   "execution_count": 32,
   "metadata": {},
   "outputs": [
    {
     "data": {
      "text/plain": [
       "'0.36 HUF'"
      ]
     },
     "execution_count": 32,
     "metadata": {},
     "output_type": "execute_result"
    }
   ],
   "source": [
    "# ez a beszélgetés körülbelül ennyi forintba (fillérbe) került\n",
    "usd_huf = 350.\n",
    "f\"{example.cost() * usd_huf:.2f} HUF\""
   ]
  },
  {
   "cell_type": "markdown",
   "metadata": {},
   "source": [
    "### Budapesti időjárás (külső JSON betöltése)"
   ]
  },
  {
   "cell_type": "code",
   "execution_count": 12,
   "metadata": {},
   "outputs": [],
   "source": [
    "context = \"\"\"A mai dátum {DATE::%Y.%m.%d %A}.\n",
    "Az alábbi budapesti adatokat tartalmazó JSON alapján válaszolj időjárással kapcsolatos kérdésekre, mintha egy időjós lennél: \n",
    "{JSON::https://api.open-meteo.com/v1/forecast?latitude=47.50&longitude=19.04&current_weather=true::current_weather}\"\"\"\n",
    "example = EDIH_GPT(context)"
   ]
  },
  {
   "cell_type": "code",
   "execution_count": 13,
   "metadata": {},
   "outputs": [
    {
     "data": {
      "text/plain": [
       "'Szia! Az adatok szerint ma Budapesten jelenleg 8.4 fok van, az északkeleti szél sebessége 8.3 kilométer/óra és az iránya 2.0 fok. Az időjárási kód 3, ami záporokra utal. Ez azt jelenti, hogy érdemes magaddal vinned esernyőt, ha kimész az utcára!'"
      ]
     },
     "execution_count": 13,
     "metadata": {},
     "output_type": "execute_result"
    }
   ],
   "source": [
    "example.chat(\"Szia, milyen az idő most?\")"
   ]
  },
  {
   "cell_type": "markdown",
   "metadata": {},
   "source": [
    "### Hírolvasó (külső HTML fájl betöltése)"
   ]
  },
  {
   "cell_type": "code",
   "execution_count": 8,
   "metadata": {},
   "outputs": [],
   "source": [
    "context = \"\"\"A mai dátum {DATE::%Y.%m.%d %A}. \n",
    "Ezek a mai legfrissebb gazdasági hírek, ezek alapján válaszolj, ha gazdasági témában kérdeznek: \n",
    "\n",
    "{URL::https://www.portfolio.hu/frisshirek::section.frisshirek}\"\"\"\n",
    "example = EDIH_GPT(context)"
   ]
  },
  {
   "cell_type": "code",
   "execution_count": 9,
   "metadata": {},
   "outputs": [
    {
     "name": "stdout",
     "output_type": "stream",
     "text": [
      "A legfrissebb tőzsdei hírek a következők:\n",
      "\n",
      "11:48\n",
      "Nincs megállás: folytatódik az emelkedés a tőzsdéken\n",
      "\n",
      "10:21\n",
      "Kisokos a befektetés alapjairól, tippek, trükkük a tőzsdézéshez - díjmentes, interaktív online előadás\n",
      "\n",
      "09:15\n",
      "Kiváló kezdés a magyar tőzsdén\n",
      "\n",
      "Azonban érdemes figyelemmel kísérni a nap folyamán történő eseményeket, mivel a tőzsdei hírek változékonyak lehetnek.\n"
     ]
    }
   ],
   "source": [
    "print(example.chat(\"Mik a legfrissebb tőzsdei hírek?\"))"
   ]
  },
  {
   "cell_type": "markdown",
   "metadata": {},
   "source": [
    "### Szakács (lokális CSV vagy EXCEL fájlok táblázatként való betöltése)"
   ]
  },
  {
   "cell_type": "code",
   "execution_count": 13,
   "metadata": {},
   "outputs": [
    {
     "data": {
      "text/html": [
       "<div>\n",
       "<style scoped>\n",
       "    .dataframe tbody tr th:only-of-type {\n",
       "        vertical-align: middle;\n",
       "    }\n",
       "\n",
       "    .dataframe tbody tr th {\n",
       "        vertical-align: top;\n",
       "    }\n",
       "\n",
       "    .dataframe thead th {\n",
       "        text-align: right;\n",
       "    }\n",
       "</style>\n",
       "<table border=\"1\" class=\"dataframe\">\n",
       "  <thead>\n",
       "    <tr style=\"text-align: right;\">\n",
       "      <th></th>\n",
       "      <th>termék</th>\n",
       "      <th>mennyiség</th>\n",
       "    </tr>\n",
       "  </thead>\n",
       "  <tbody>\n",
       "    <tr>\n",
       "      <th>0</th>\n",
       "      <td>burgonya</td>\n",
       "      <td>fél kiló</td>\n",
       "    </tr>\n",
       "    <tr>\n",
       "      <th>1</th>\n",
       "      <td>paradicsom</td>\n",
       "      <td>egy doboz</td>\n",
       "    </tr>\n",
       "    <tr>\n",
       "      <th>2</th>\n",
       "      <td>tejföl</td>\n",
       "      <td>2 deci</td>\n",
       "    </tr>\n",
       "    <tr>\n",
       "      <th>3</th>\n",
       "      <td>hús</td>\n",
       "      <td>2 kg</td>\n",
       "    </tr>\n",
       "    <tr>\n",
       "      <th>4</th>\n",
       "      <td>trappista sajt</td>\n",
       "      <td>500 gramm</td>\n",
       "    </tr>\n",
       "  </tbody>\n",
       "</table>\n",
       "</div>"
      ],
      "text/plain": [
       "           termék  mennyiség\n",
       "0        burgonya   fél kiló\n",
       "1      paradicsom  egy doboz\n",
       "2          tejföl     2 deci\n",
       "3             hús       2 kg\n",
       "4  trappista sajt  500 gramm"
      ]
     },
     "execution_count": 13,
     "metadata": {},
     "output_type": "execute_result"
    }
   ],
   "source": [
    "import pandas as pd\n",
    "\n",
    "huto = pd.DataFrame({\"termék\":[\"burgonya\", \"paradicsom\", \"tejföl\", \"hús\", \"trappista sajt\"], \n",
    "                     \"mennyiség\":[\"fél kiló\", \"egy doboz\", \"2 deci\", \"2 kg\", \"500 gramm\"]})\n",
    "huto.to_csv(\"huto.csv\", index=False)\n",
    "huto.head()"
   ]
  },
  {
   "cell_type": "code",
   "execution_count": 19,
   "metadata": {},
   "outputs": [
    {
     "name": "stdout",
     "output_type": "stream",
     "text": [
      "Ezek vannak a hűtőben:\n",
      "\n",
      "| termék         | mennyiség   |\n",
      "|:---------------|:------------|\n",
      "| burgonya       | fél kiló    |\n",
      "| paradicsom     | egy doboz   |\n",
      "| tejföl         | 2 deci      |\n",
      "| hús            | 2 kg        |\n",
      "| trappista sajt | 500 gramm   |\n"
     ]
    }
   ],
   "source": [
    "context = \"\"\"Ezek vannak a hűtőben:\n",
    "\n",
    "{CSV::huto.csv}\"\"\"\n",
    "example = EDIH_GPT(context)\n",
    "print(example.context)"
   ]
  },
  {
   "cell_type": "code",
   "execution_count": 20,
   "metadata": {},
   "outputs": [
    {
     "name": "stdout",
     "output_type": "stream",
     "text": [
      "Javasolt recept egy paradicsomos húsos tészta:\n",
      "\n",
      "Hozzávalók:\n",
      "\n",
      "- burgonya (fél kiló)\n",
      "- paradicsom (egy doboz)\n",
      "- hús (2 kg)\n",
      "- tészta (40 dkg)\n",
      "- vöröshagyma (1 db)\n",
      "- fokhagyma (2 gerezd)\n",
      "- paradicsompüré (2 evőkanál)\n",
      "- tejföl (2 deci)\n",
      "- trappista sajt (100 gramm)\n",
      "- só\n",
      "- bors\n",
      "- olívaolaj\n",
      "\n",
      "Elkészítés:\n",
      "\n",
      "1. A burgonyát megpucoljuk, felszeleteljük és sós vízben megfőzzük.\n",
      "2. A húst kockákra vágjuk, a vöröshagymát apróra vágjuk, és az olívaolajon megpároljuk.\n",
      "3. Hozzáadjuk a paradicsomot, az apróra vágott fokhagymát, a paradicsom pürét, sót, borsot és pár percig főzzük.\n",
      "4. Közben főzzük meg a tésztát sós vízben.\n",
      "5. A végén hozzáadjuk a tejfölt és összekeverjük.\n",
      "6. Az elkészült tésztát a paradicsomos húsos raguval tálaljuk, tetejére reszeljük a trappista sajtot.\n",
      "\n",
      "Jó étvágyat!\n"
     ]
    }
   ],
   "source": [
    "print(example.chat(\"Mit tudok főzni a hűtőmben lévő dolgokból ebédre?\"))"
   ]
  },
  {
   "cell_type": "code",
   "execution_count": null,
   "metadata": {},
   "outputs": [],
   "source": []
  }
 ],
 "metadata": {
  "kernelspec": {
   "display_name": "Python 3",
   "language": "python",
   "name": "python3"
  },
  "language_info": {
   "codemirror_mode": {
    "name": "ipython",
    "version": 3
   },
   "file_extension": ".py",
   "mimetype": "text/x-python",
   "name": "python",
   "nbconvert_exporter": "python",
   "pygments_lexer": "ipython3",
   "version": "3.9.2"
  }
 },
 "nbformat": 4,
 "nbformat_minor": 4
}
