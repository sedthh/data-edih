{
 "cells": [
  {
   "cell_type": "markdown",
   "id": "65225362",
   "metadata": {},
   "source": [
    "# Példa Notebook\n",
    "Az OpenAI eléréséhez szükséges kulcsot a \"system.json\" fájlban tudod beállítani!\n",
    "\n",
    "A szövegek vektor reprezentációvá (embedding) alakításával kereshető számsorokként \"betömöríthetjük\" szövegeinket. \n",
    "\n",
    "A tömörített szövegek eltárolhatók és keresőmotorrá alakíthatók. Ha két szöveg tartalma hasonló, általában a tömörített vektor reprezentációjuk is \"közel\" lesz egymáshoz. Ezzel a megoldással könnyedén hozhatunk létre szabadszöveges keresőt saját adatainkra. "
   ]
  },
  {
   "cell_type": "code",
   "execution_count": 1,
   "id": "df674786",
   "metadata": {},
   "outputs": [],
   "source": [
    "import sys\n",
    "sys.path.insert(0, '..')  # szülőkönyvtár elérése \"edih\" mappa importálásához\n",
    "\n",
    "from edih import Embeddings"
   ]
  },
  {
   "cell_type": "code",
   "execution_count": 44,
   "id": "19e733ee",
   "metadata": {},
   "outputs": [
    {
     "data": {
      "text/plain": [
       "[-0.02496456  0.00468168  0.00762549 ... -0.00799553  0.00080988\n",
       " -0.00037004]"
      ]
     },
     "execution_count": 44,
     "metadata": {},
     "output_type": "execute_result"
    }
   ],
   "source": [
    "example = Embeddings()\n",
    "example.embedding(\"Teszt keresés\")  # szöveghez tartozó vektor értékek és normalizált értékek"
   ]
  },
  {
   "cell_type": "code",
   "execution_count": 45,
   "id": "abde5e75",
   "metadata": {},
   "outputs": [
    {
     "data": {
      "text/plain": [
       "0.9429043927359"
      ]
     },
     "execution_count": 45,
     "metadata": {},
     "output_type": "execute_result"
    }
   ],
   "source": [
    "example.similarity(\"Volt egyszer egy Vadnyugat\", \"Volt egyszer egy vadnyulam\")  # hasonlóság -1 és +1 közt"
   ]
  },
  {
   "cell_type": "markdown",
   "id": "fb02507d",
   "metadata": {},
   "source": [
    "# Vektorműveletek\n",
    "A Word2Vec aritmetika példájára: \n",
    "\n",
    "Király - Férfi + Nő ~= Királynő\n",
    "\n",
    "Bővebb magyarázat: https://jalammar.github.io/illustrated-word2vec/"
   ]
  },
  {
   "cell_type": "code",
   "execution_count": 46,
   "id": "04a8cce8",
   "metadata": {},
   "outputs": [
    {
     "data": {
      "text/plain": [
       "[-0.00082538  0.00497127  0.00820984 ...  0.00677392 -0.01348638\n",
       " -0.00521199]"
      ]
     },
     "execution_count": 46,
     "metadata": {},
     "output_type": "execute_result"
    }
   ],
   "source": [
    "king = example.embedding(\"king\")\n",
    "prince = example.embedding(\"prince\")\n",
    "queen = example.embedding(\"queen\")\n",
    "princess = example.embedding(\"princess\")\n",
    "male = example.embedding(\"male\")\n",
    "female = example.embedding(\"female\")\n",
    "\n",
    "# hozzunk létre egy új értéket és ellenőrízzük\n",
    "check = king - male + female\n",
    "check"
   ]
  },
  {
   "cell_type": "code",
   "execution_count": 47,
   "id": "537bcca1",
   "metadata": {},
   "outputs": [
    {
     "data": {
      "text/plain": [
       "['king',\n",
       " 'queen',\n",
       " 'princess',\n",
       " 'female',\n",
       " 'prince',\n",
       " 'Volt egyszer egy vadnyulam',\n",
       " 'Volt egyszer egy Vadnyugat',\n",
       " 'Teszt keresés',\n",
       " 'male']"
      ]
     },
     "execution_count": 47,
     "metadata": {},
     "output_type": "execute_result"
    }
   ],
   "source": [
    "example.find(check)  # top 10 legközelebbi szöveg (második helyen a queen)"
   ]
  },
  {
   "cell_type": "code",
   "execution_count": 48,
   "id": "7cc1af98",
   "metadata": {},
   "outputs": [
    {
     "data": {
      "text/plain": [
       "0.9014563382377371"
      ]
     },
     "execution_count": 48,
     "metadata": {},
     "output_type": "execute_result"
    }
   ],
   "source": [
    "example.similarity(check, queen)"
   ]
  },
  {
   "cell_type": "markdown",
   "id": "26981863",
   "metadata": {},
   "source": [
    "# Szomszédok kereső\n",
    "\n",
    "1) A televíziós részek leírását kereshető vektorokká alakítjuk\n",
    "2) Az epizódokkal kapcsolatos kérdésekből a ChatGPT segítségével keresőszavakat hozunk létre\n",
    "3) A keresőszavak vektor reprezentációja és az epizódok vektorreprezentációi közül kiválasztjuk a leghasonlóbbat"
   ]
  },
  {
   "cell_type": "code",
   "execution_count": 20,
   "id": "ed9a6948",
   "metadata": {},
   "outputs": [],
   "source": [
    "# wikipedia alapján: https://hu.wikipedia.org/wiki/Szomsz%C3%A9dok_(els%C5%91_%C3%A9vad)\n",
    "szomszedok = {\n",
    "    \"s01e01\": \"1987-et írunk. Ez a sorozat első része, melyben megismerkedünk a családokkal. Vágásiéknak kiutalják a lakást. Böhm, a közös képviselő fogadja őket. A ház tetszik nekik, bár Jutkának a környékkel vannak kifogásai. A lakásajtóban találkoznak Mégenheim Ádámmal, egy másik család családfőjével. Jutka édesapja Szőllősy Pál, aki már nem tartja a kapcsolatot lányával – mivel Jutka Vágási Ferivel összeházasodott-, nézi a Híradót, melyben a Szomszédokat reklámozzák. Itt mondják el, hogy kéthetente csütörtökön fogják leadni a részeket. Janka nénitől, Jutka nagynénijétől elhoznak egy régebbi bútort, ami akár hetvenezer forintot is megér (ekkor Jutkáék jövedelme havi kilencezer forint volt). A Takács család háromfős, Taki bácsi a rádiósokat autóztatja, Lenke néni boltos. Unokájuk Niski Alma, akinek a szülei később meghalnak autóbalesetben. Kertes házban éltek, Lenke néninek nagyon fáj, hogy el kell költözniük innen, mivel itt épül az M0-s körgyűrű. Alma udvarlója Sudár László, később a Presszó tulajdonosa, főnöke. Lenke néni mindent kipakol a lakásból, és szinte mindent el szeretne vinni, azonban a kutyát nem vihetik magukkal, mivel nem akar kutyaólat csinálni egy gyönyörű, összkomfortos lakásból. Bemutatkozik a Mágenheim család is. Hárman vannak, Juli kozmetikus, Ádám mentőorvos, Julcsi iskolás. Nagyon szomorú, hogy ott kellett hagyni a régi iskoláját. Ádámot egy sérülthöz hívják. A sérült férfi felesége felkeresi őt a lakásán, és egy borítékot szeretne átadni neki. Ádám nem fogadja el, mondván, ő csak a munkáját végezte. Mindhárman leülnek vacsorázni, bekapcsolják a rádiót, amiből éppen mese és a sorozat zenéje szól.\",\n",
    "    \"s01e02\": \"Vágási Judit egy éhes kislányt karol fel. Takácsék levelet kapnak NDK-ból. Magenheimékhez felszerelik a telefont, Ádám 500 Ft borravalót ad a szakiknak. Alma idegenvezet Volánuszon, főnöke Sípos Dezső (Deziré) megfeddi Almát késése miatt, de randira hívja.\",\n",
    "    \"s01e03\": \"Mivel csak Mágenéknek van telefonjuk a házban, mindenki hozzájuk jár telefonálni, melynek Juli nem tud igazán örülni. Ezért kihelyezik a telefont a lépcsőházba, ami kétforintos becsületkasszával működik. Takács Pista bácsit régi munkahelyére hívják, besegíteni. Még portásnak is beáll, de egy lefoglalt boros demizson miatt bajba kerül. Jutka terhes.\",\n",
    "    \"s01e04\": \"Takácsék rokonlátogatásra Ózdra utaznak, Magenheimék telefonját ellopják, mivel éjszakára kint felejtik a folyosón. Vágásiéknál felmerül, hogy Jutkának új iskolába kell kerülnie. Az egyik Lantos utcai szomszéd, Vadászné gyakran részeg, ezért a férje az ablakon keresztül kidobja a ruháit. Feri leszokik a cigiről Jutka terhessége miatt.\",\n",
    "    \"s01e05\": \"Ádámot öngyilkossági kísérlethez hívják, gyógyszerezés miatt gyomormosást rendel el. Alma kirúgja Lacit.\",\n",
    "    \"s01e06\": \"Átalakul Juli szövetkezete, emiatt megemelkednek a dolgozók terhei. Julcsi nyári táborba megy, ahol Ádám távcsővel meglesi.\",\n",
    "    \"s01e07\": \"Jutka iskolát vált. Két nyaraló evez a Dunán, egyikük felhevült testtel beugrik a vízbe, Ádám érkezik a mentőn. Ekkor ismeri meg Nagy Évát (Simorjay Emese), akivel később kollégák lesznek. Kiderül Feriék havi 2500-at törlesztenek Jankának, miközben 9000 Ft a bevételük. Deziré elmegy vacsorázni Takácsékhoz, ahol Lenke kellemetlen kérdésekkel zaklatja a szerelmes lovagot. Sümeghyhez betörnek, és ellopják a gyűrűjét.\",\n",
    "    \"s01e08\": \"Feriék kapnak beutalót Balatonra. Taki az énekkar számára alapítványt szervez. Taki munkahelyén defektet kap, mivel az egyik kolléga kicserélte a gumikat. Juli kozmetikai versenyen vesz részt, ahol felbukkan Gábor Gábor fotósként.\",\n",
    "    \"s01e09\": \"Etus autót venne Góliáttól, akiről kiderül, hogy első osztályú futballista volt. Gábor Gábor megpróbálja Julit rábeszélni a vállalkozásra. Feriék gyümölcsöt szednek, Jutka túl nagy súlyt emel, emiatt rosszul lesz. Alma anyja megérkezik NDK-ból.\",\n",
    "    \"s01e10\": \"Sümeghy ajándékba ad Böhmnek egy dedikált bakelitet. Taki megmenti a dalárdát, Zsuzsa meglátogatja Jutkát. Egy kisfiú petárdakészítés közben berobbantja a pajtát. Ádám már Évikével érkezik a helyszínre.\",\n",
    "    \"s01e11\": \"Julcsi továbbra is nagyon szétszórt az iskolában, rossz jegyeket kap és nem figyel órán. Végre megnyílik Gábor Gábor új szalonja, eközben Ferit és Taki bácsit az új adórendszer foglalkoztatja, de egyikük sem érti. Etus végre talál egy eladó Trabantot 43000 forintért, ami árban is megfelel, így a Magenheim családba végre kerül egy autó. Juli a szalon nyitóbuliján jól bepezsgőzik, ezzel magára haragítva a teljes családot. Vizy András civil rendőrnek próbálta eladni Sümeghy ékszereit a Keleti Pályaudvarnál, de lekapcsolják. Lenke néni szerencsésen átesik a szemműtéten, s kijöhet a kórházból. Sümeghy beszereltet riasztót, Jutka apja végtörleszt Jankánál. Feri kap egy háromhetes behívót a Honvédségbe.\",\n",
    "    \"s01e12\": \"Magenheimék rendszeresen lerobbanó új Trabantja ébreszti reggelente a lakótelepet. Feri néhány hétre katonának áll, Lenke néni pedig köpenyt ragad és beugrik egy beteg eladónő helyére a közértben. Bandi úgy meg van elégedve a munkájával, hogy Bandi visszahívja dolgozni. Magenheim doktor egy csinos betegével kerül közelebbi kapcsolatba, de Julinak is vaj kerül a füle mögé, Gábor Gábor ugyanis tovább ostromolja szíve egyetlen királynőjét. Julcsi kiönti szívét Etusnak: arra panaszkodik, hogy szülei állandóan veszekednek, ráadásul angolul, hogy ő ne is értse. Desiré megpróbálja felmelegíteni kapcsolatukat, de csúnyán mellényúl, amikor lenácizza Alma német vendégeit. A lány, aki félig német, vérig sértődik és felmond.\",\n",
    "    \"s01e13\": \"Jutka konfliktusba kerül az egyik szülővel az iskolában. Takácsék egy csőtörés miatt beáznak. Magenheiméknél igazi dráma zajlik, egy fényes parti után összevitatkoznak, ráadásul a doktor egyik betege meghal.\",\n",
    "    \"s01e14\": \"Alma Juli szalonjában találkozik egy vezető stewardess-szel, aki állást ajánl neki a Malévnél. Vágásiékhoz ellátogatnak a Szöllősi szülők egy kínos vacsorára, amely után Jutka és Feri összevesznek. Takácsékhoz elmegy a biztosító embere, felmérni a károkat. Taki bácsi maszek munkahelyén rendőrségi úgy lesz egy külföldi ügyfél által fizetett 500 márkás bankjegyből. Mágenheimék házassága egyre mélyebb válságba süllyed.\",\n",
    "    \"s01e15\": \"Julcsi és túlsúlyos barátja, Kozma Jocó unatkoznak, így szeméttakarításra jelentkeznek közös Bőhmnél. Jutka elkezd nyomozni Feri szülei után. Magenheim Julinak elege lesz a vitákból, Etushoz költözik. Magenheim újra találkozik Ágnessel, aki megpróbálja elcsábítani a doktort. A hamis márka ügyében folyik a nyomozás, Taki bácsi felmond a szerelőműhelynél. Almát felveszik a MALÉV-hez.\",\n",
    "    \"s01e16\": \"Taki bácsi Vágási Ferivel együtt Mágenheimék Trabantját vezetik, amikor egy másik autós elüt egy gyalogost. Az emberek Taki bácsit hibáztatják a történtekért. Lenke nénit csalásba akarják belerángatni a bolti kollégái, de ő nem áll kötélnek. Vágási Ferit főnökei rá akarják venni, hogy ő közölje idős kollégájával a felmondását, de ő visszautasítja a kérést. Jutka iskolájában megtartják a Mikulás-ünnepséget, Julcsi is beöltözik Mikulásnak. Juli Etus lakásában fogadja Gábor Gábort, aki ott tölti az éjszakát, bár nem történik köztük semmi. A reggel váratlanul hazaérkező Etus kidobja Julit. Almát feleségül kéri Laci, de a lány nemet mond.\",\n",
    "    \"s01e17\": \"Taki bácsit és Ferit beidézik a rendőrségre a gázolási ügyben. Feri felkötött karra érkezik, mivel éjszaka megsérült a másodállásában, a vagonok kirakodásánál. Jutka tovább nyomoztat a Vöröskereszttel Feri szülei után, de eredmény nélkül. Alma stewardessként egy járat fedélzetén megismerkedik egy szimpatikus fiatalemberrel, aki elhagyja az újságját, amit Alma talál meg. Magenheiméknél Juli és Ádám is hiába járja a várost színes tévé után, de Etusnak sikerül szereznie egyet. Julcsival együtt arra használják fel, hogy megpróbálják kibékíteni vele Julit és Ádámot, akik már egy hónapja külön élnek.\",\n",
    "    \"s01e18\": \"Szilveszter van. Vágásiék meghívják Jutka barátnőit és Feri kollégáit közös ünneplésre. Mágenheimék kibékülnek, és amikor Ádámot behívják ügyelni, Juli úgy dönt, vele megy. Julcsi közös ünnepséget szervez a házban lakó gyerekeknek, amihez Böhm bácsi adja a zenét. Takácsék azt tervezik, hármasban otthon ünnepelnek, de Almát munka után követi és csellel elhívja hazulról az a fiatalember, akivel munka közben az egyik repülőjáraton ismerkedett meg.\",\n",
    "}"
   ]
  },
  {
   "cell_type": "code",
   "execution_count": 28,
   "id": "82ce896a",
   "metadata": {},
   "outputs": [
    {
     "name": "stderr",
     "output_type": "stream",
     "text": [
      "100%|██████████████████████████████████████████████████████████████████████████████████| 18/18 [00:33<00:00,  1.88s/it]\n"
     ]
    }
   ],
   "source": [
    "# epizódok átalakítása vektor reprezentációvá\n",
    "from edih import Embeddings, ChatGPT\n",
    "import numpy as np\n",
    "from tqdm import tqdm\n",
    "\n",
    "e = Embeddings()\n",
    "search = {}\n",
    "for key, value in tqdm(szomszedok.items()):\n",
    "    search[key] = e.embedding(value)"
   ]
  },
  {
   "cell_type": "code",
   "execution_count": null,
   "id": "ecd4ff79",
   "metadata": {},
   "outputs": [],
   "source": [
    "# keresési feltétel\n",
    "query = \"Melyik részben kerül Vágási Feri slamasztikába?\""
   ]
  },
  {
   "cell_type": "code",
   "execution_count": 24,
   "id": "cfc8f333",
   "metadata": {},
   "outputs": [
    {
     "name": "stdout",
     "output_type": "stream",
     "text": [
      "Vágási Feri + Szomszédok + slamasztika + epizód\n"
     ]
    }
   ],
   "source": [
    "# keresési feltétel átalakítása kereőszavakká\n",
    "\n",
    "converter = ChatGPT(\"Alakítsd át az alábbi Szomszédok televíziós sorozattal kapcsolatos kérdést csak kereszőszavakká:\")\n",
    "keywords = converter.chat(query)\n",
    "print(keywords)"
   ]
  },
  {
   "cell_type": "code",
   "execution_count": null,
   "id": "23b617f4",
   "metadata": {},
   "outputs": [],
   "source": [
    "# keresőszavak átalakítása vektor reprezentációvá\n",
    "keywords_as_embedding = e.embedding(keywords)"
   ]
  },
  {
   "cell_type": "code",
   "execution_count": 33,
   "id": "abda558a",
   "metadata": {},
   "outputs": [
    {
     "name": "stdout",
     "output_type": "stream",
     "text": [
      "s01e16 (86.89%)\n",
      "Taki bácsi Vágási Ferivel együtt Mágenheimék Trabantját vezetik, amikor egy másik autós elüt egy gyalogost. Az emberek Taki bácsit hibáztatják a történtekért. Lenke nénit csalásba akarják belerángatni a bolti kollégái, de ő nem áll kötélnek. Vágási Ferit főnökei rá akarják venni, hogy ő közölje idős kollégájával a felmondását, de ő visszautasítja a kérést. Jutka iskolájában megtartják a Mikulás-ünnepséget, Julcsi is beöltözik Mikulásnak. Juli Etus lakásában fogadja Gábor Gábort, aki ott tölti az éjszakát, bár nem történik köztük semmi. A reggel váratlanul hazaérkező Etus kidobja Julit. Almát feleségül kéri Laci, de a lány nemet mond.\n"
     ]
    }
   ],
   "source": [
    "# legmegfelelőbb epizód megtlaálása\n",
    "best_episode, best_score = \"\", -np.inf\n",
    "for key, value in search.items():\n",
    "    score = e.similarity(value, keywords_as_embedding)  # cosine hasonlóság\n",
    "    if score > best_score:\n",
    "        best_episode = key\n",
    "        best_score = score\n",
    "\n",
    "print(f\"{best_episode} ({best_score*100.:.2f}%)\\n{search[best_episode]}\")"
   ]
  },
  {
   "cell_type": "code",
   "execution_count": null,
   "id": "f18e8351",
   "metadata": {},
   "outputs": [],
   "source": []
  }
 ],
 "metadata": {
  "kernelspec": {
   "display_name": "Python 3 (ipykernel)",
   "language": "python",
   "name": "python3"
  },
  "language_info": {
   "codemirror_mode": {
    "name": "ipython",
    "version": 3
   },
   "file_extension": ".py",
   "mimetype": "text/x-python",
   "name": "python",
   "nbconvert_exporter": "python",
   "pygments_lexer": "ipython3",
   "version": "3.9.2"
  }
 },
 "nbformat": 4,
 "nbformat_minor": 5
}
