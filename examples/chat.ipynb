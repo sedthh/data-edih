{
 "cells": [
  {
   "cell_type": "markdown",
   "metadata": {},
   "source": [
    "# Példa Notebook\n",
    "\n",
    "Az OpenAI eléréséhez szükséges kulcsot a \"system.json\" fájlban tudod beállítani! "
   ]
  },
  {
   "cell_type": "code",
   "execution_count": 2,
   "metadata": {},
   "outputs": [],
   "source": [
    "import sys\n",
    "sys.path.insert(0, '..')  # szülőkönyvtár elérése \"edih\" mappa importálásához\n",
    "\n",
    "from edih import ChatGPT"
   ]
  },
  {
   "cell_type": "markdown",
   "metadata": {},
   "source": [
    "### Egyszerű Chat"
   ]
  },
  {
   "cell_type": "code",
   "execution_count": 9,
   "metadata": {},
   "outputs": [
    {
     "data": {
      "text/plain": [
       "'Egy segítőkész magyar nyelvű chatbot vagy.'"
      ]
     },
     "execution_count": 9,
     "metadata": {},
     "output_type": "execute_result"
    }
   ],
   "source": [
    "context = \"\"\"Egy segítőkész magyar nyelvű chatbot vagy.\"\"\"\n",
    "example = ChatGPT(context)\n",
    "example.context"
   ]
  },
  {
   "cell_type": "code",
   "execution_count": 10,
   "metadata": {},
   "outputs": [
    {
     "name": "stdout",
     "output_type": "stream",
     "text": [
      "Szia! Én csak egy chatbot vagyok, de jól vagyok, köszönöm! Remélem, hogy te is jól vagy! Miben segíthetek neked ma?\n"
     ]
    }
   ],
   "source": [
    "print(example.chat(\"Szia, hogy vagy?\"))"
   ]
  },
  {
   "cell_type": "code",
   "execution_count": 4,
   "metadata": {},
   "outputs": [
    {
     "name": "stdout",
     "output_type": "stream",
     "text": [
      "Természetesen, az alábbi példákban láthatod, hogy milyen feladatokat tudok ellátni:\n",
      "\n",
      "1. Segíthetek a keresésben: ha van valamilyen információ, amit keresel az interneten vagy akár a saját adatbázisodban, akkor megpróbálok segíteni. \n",
      "\n",
      "2. Elvégzem a számításokat: ha szükséged van néhány gyors számításra, például egy árfolyamváltásra vagy kamatok kiszámítására, akkor azt is meg tudom csinálni. \n",
      "\n",
      "3. Adok tippeket: esetleg tudod, mire van szükséged, de nem tudod pontosan hogyan érdemes elindulni? Akkor adok tippeket, hogyan érdemes továbbmenni. \n",
      "\n",
      "4. Válaszolok a kérdéseidre: ha bármi kérdésed van, akár személyes, akár munkával vagy tanulással kapcsolatos, akkor is szívesen válaszolok rá.\n",
      "\n",
      "Remélem, ez segít! Ha bármilyen konkrét feladatod lenne, akkor azt is szívesen elvégzem.\n"
     ]
    }
   ],
   "source": [
    "# a chat beszélgetés folytatódik\n",
    "print(example.chat(\"Tudnál mondani példákat a felhasználásodra?\"))"
   ]
  },
  {
   "cell_type": "code",
   "execution_count": 5,
   "metadata": {},
   "outputs": [
    {
     "data": {
      "text/plain": [
       "'0.34 HUF'"
      ]
     },
     "execution_count": 5,
     "metadata": {},
     "output_type": "execute_result"
    }
   ],
   "source": [
    "# ez a beszélgetés körülbelül ennyi forintba (fillérbe) került\n",
    "usd_huf = 351.\n",
    "f\"{example.cost() * usd_huf:.2f} HUF\""
   ]
  },
  {
   "cell_type": "markdown",
   "metadata": {},
   "source": [
    "### Budapesti időjárás (külső JSON betöltése)"
   ]
  },
  {
   "cell_type": "code",
   "execution_count": 11,
   "metadata": {},
   "outputs": [],
   "source": [
    "context = \"\"\"A mai dátum {DATE::%Y.%m.%d %A}.\n",
    "Az alábbi budapesti adatokat tartalmazó JSON alapján válaszolj időjárással kapcsolatos kérdésekre, mintha egy időjós lennél: \n",
    "{JSON::https://api.open-meteo.com/v1/forecast?latitude=47.50&longitude=19.04&current_weather=true::current_weather}\"\"\"\n",
    "example = ChatGPT(context)"
   ]
  },
  {
   "cell_type": "code",
   "execution_count": 12,
   "metadata": {},
   "outputs": [
    {
     "data": {
      "text/plain": [
       "'Szia! Az adatok alapján Budapesten jelenleg 13.9 Celsius fok van, a szélsebessége pedig 9.4 km/h. Az időjárás kódja 3, ami azt jelenti, hogy felhős az ég. Jelenleg a nappal tart.'"
      ]
     },
     "execution_count": 12,
     "metadata": {},
     "output_type": "execute_result"
    }
   ],
   "source": [
    "example.chat(\"Szia, milyen az idő most?\")"
   ]
  },
  {
   "cell_type": "markdown",
   "metadata": {},
   "source": [
    "### Hírolvasó (külső HTML fájl betöltése)"
   ]
  },
  {
   "cell_type": "code",
   "execution_count": 65,
   "metadata": {},
   "outputs": [],
   "source": [
    "context = \"\"\"Ezek a legfrissebb hírek szalagcímei soronként. Csak ezek alapján válaszolj, bármilyen témában kérdeznek: \n",
    "\n",
    "{URL::https://www.portfolio.hu/frisshirek::section.frisshirek}\"\"\"\n",
    "example = ChatGPT(context)"
   ]
  },
  {
   "cell_type": "code",
   "execution_count": 66,
   "metadata": {},
   "outputs": [
    {
     "name": "stdout",
     "output_type": "stream",
     "text": [
      "Ömlenek az újabb NATO-fegyverek Ukrajnába, néhányat már be is vetettek Oroszország ellen - Háborús híreink szombaton\n",
      "Eddig nem látott fegyvert kaphatott titokban Ukrajna – Ezért hatástalan az orosz légvédelem?\n",
      "Hatalmas katonai szállítmány érkezik Ukrajnába: az eddigi legnagyobb küldeményt állítja össze az európai nagyhatalom\n",
      "Videó: máris bevetették Ukrajna legújabb szuperfegyverét, lecsapott a „Viharárny”\n",
      "Kudarcot szenvedtek az oroszok Bahmutnál, alakulóban az ukrán ellentámadás – Háborús híreink pénteken\n"
     ]
    }
   ],
   "source": [
    "print(example.chat(\"Mik a legfrissebb hírek Ukrajnából?\"))"
   ]
  },
  {
   "cell_type": "markdown",
   "metadata": {},
   "source": [
    "### Szakács (lokális CSV vagy EXCEL fájlok táblázatként való betöltése)"
   ]
  },
  {
   "cell_type": "code",
   "execution_count": 27,
   "metadata": {},
   "outputs": [
    {
     "data": {
      "text/html": [
       "<div>\n",
       "<style scoped>\n",
       "    .dataframe tbody tr th:only-of-type {\n",
       "        vertical-align: middle;\n",
       "    }\n",
       "\n",
       "    .dataframe tbody tr th {\n",
       "        vertical-align: top;\n",
       "    }\n",
       "\n",
       "    .dataframe thead th {\n",
       "        text-align: right;\n",
       "    }\n",
       "</style>\n",
       "<table border=\"1\" class=\"dataframe\">\n",
       "  <thead>\n",
       "    <tr style=\"text-align: right;\">\n",
       "      <th></th>\n",
       "      <th>termék</th>\n",
       "      <th>mennyiség</th>\n",
       "    </tr>\n",
       "  </thead>\n",
       "  <tbody>\n",
       "    <tr>\n",
       "      <th>0</th>\n",
       "      <td>burgonya</td>\n",
       "      <td>fél kiló</td>\n",
       "    </tr>\n",
       "    <tr>\n",
       "      <th>1</th>\n",
       "      <td>paradicsom</td>\n",
       "      <td>egy doboz</td>\n",
       "    </tr>\n",
       "    <tr>\n",
       "      <th>2</th>\n",
       "      <td>tejföl</td>\n",
       "      <td>2 deci</td>\n",
       "    </tr>\n",
       "    <tr>\n",
       "      <th>3</th>\n",
       "      <td>hús</td>\n",
       "      <td>2 kg</td>\n",
       "    </tr>\n",
       "    <tr>\n",
       "      <th>4</th>\n",
       "      <td>trappista sajt</td>\n",
       "      <td>500 gramm</td>\n",
       "    </tr>\n",
       "  </tbody>\n",
       "</table>\n",
       "</div>"
      ],
      "text/plain": [
       "           termék  mennyiség\n",
       "0        burgonya   fél kiló\n",
       "1      paradicsom  egy doboz\n",
       "2          tejföl     2 deci\n",
       "3             hús       2 kg\n",
       "4  trappista sajt  500 gramm"
      ]
     },
     "execution_count": 27,
     "metadata": {},
     "output_type": "execute_result"
    }
   ],
   "source": [
    "import pandas as pd\n",
    "\n",
    "huto = pd.DataFrame({\"termék\":[\"burgonya\", \"paradicsom\", \"tejföl\", \"hús\", \"trappista sajt\"], \n",
    "                     \"mennyiség\":[\"fél kiló\", \"egy doboz\", \"2 deci\", \"2 kg\", \"500 gramm\"]})\n",
    "huto.to_csv(\"huto.csv\", index=False)\n",
    "huto.head()"
   ]
  },
  {
   "cell_type": "code",
   "execution_count": 36,
   "metadata": {},
   "outputs": [
    {
     "name": "stdout",
     "output_type": "stream",
     "text": [
      "A hűtőszekrényem tartalma alapján ajánlj egyszerű recepteket:\n",
      "\n",
      "| termék         | mennyiség   |\n",
      "|:---------------|:------------|\n",
      "| burgonya       | fél kiló    |\n",
      "| paradicsom     | egy doboz   |\n",
      "| tejföl         | 2 deci      |\n",
      "| hús            | 2 kg        |\n",
      "| trappista sajt | 500 gramm   |\n"
     ]
    }
   ],
   "source": [
    "context = \"\"\"A hűtőszekrényem tartalma alapján ajánlj egyszerű recepteket:\n",
    "\n",
    "{CSV::huto.csv}\"\"\"\n",
    "example = ChatGPT(context)\n",
    "print(example.context)"
   ]
  },
  {
   "cell_type": "code",
   "execution_count": 37,
   "metadata": {},
   "outputs": [
    {
     "name": "stdout",
     "output_type": "stream",
     "text": [
      "Egyszerű és finom lehet egy klasszikus rakott krumpli, amihez az alábbi hozzávalókra lesz szükséged:\n",
      "\n",
      "- fél kiló burgonya\n",
      "- egy doboz paradicsom\n",
      "- 2 deci tejföl\n",
      "- 500 gramm trappista sajt\n",
      "\n",
      "A krumplikat meghámozod, feldarabolod és sós vízben megfőzöd. A paradicsomot felkockázod, majd a sajtot lereszled. Az elkészült krumpliszeleteket egy tűzálló tálba teszed, majd rászórod a paradicsomot és a sajtot is. Az egészet tejföllel öntöd le és előmelegített sütőben kb. 30 perc alatt pirosra sütöd.\n",
      "\n",
      "Ha húst is ennél a rakott krumpli mellé, akkor a húsokat megsütöd, és elhelyezed a krumpli és sajt rétegei között, majd a tejfölt ráöntöd. Jó étvágyat!\n"
     ]
    }
   ],
   "source": [
    "print(example.chat(\"Mit tudok főzni a hűtőmben lévő dolgokból ebédre?\"))"
   ]
  },
  {
   "cell_type": "markdown",
   "metadata": {},
   "source": [
    "# Előre definiált kontextusok"
   ]
  },
  {
   "cell_type": "code",
   "execution_count": 9,
   "metadata": {},
   "outputs": [
    {
     "name": "stdout",
     "output_type": "stream",
     "text": [
      "Tisztelt Kollégák,\n",
      "\n",
      "Sajnálattal kell közölnöm, hogy holnapra nem tudok megjelenni a munkahelyen, mivel egészségügyi problémámmal küzdök. Köszönöm megértéseteket és remélem, hamarosan visszatérhetek a munkához.\n",
      "\n",
      "Tisztelettel,\n",
      "\n",
      "[Neved]\n"
     ]
    }
   ],
   "source": [
    "from edih import Presets\n",
    "\n",
    "example = ChatGPT(Presets.HIVATALOS_EMAIL)\n",
    "print(example.chat(\"Holnap nem tudok bejönni dolgozni, elkapott valami nyavaja.\"))"
   ]
  },
  {
   "cell_type": "code",
   "execution_count": 39,
   "metadata": {},
   "outputs": [
    {
     "name": "stdout",
     "output_type": "stream",
     "text": [
      "I would like to ask when are you open?\n"
     ]
    }
   ],
   "source": [
    "example = ChatGPT(Presets.TOLMACS_ANGOL)\n",
    "print(example.chat(\"Szeretném megkérdezni, hogy mikor vannak nyitva?\"))"
   ]
  },
  {
   "cell_type": "code",
   "execution_count": 40,
   "metadata": {},
   "outputs": [
    {
     "name": "stdout",
     "output_type": "stream",
     "text": [
      "Minden nap nyitva vagyunk, kivéve vasárnap.\n"
     ]
    }
   ],
   "source": [
    "print(example.chat(\"We are open every day except Sunday.\"))"
   ]
  },
  {
   "cell_type": "code",
   "execution_count": null,
   "metadata": {},
   "outputs": [],
   "source": []
  }
 ],
 "metadata": {
  "kernelspec": {
   "display_name": "Python 3 (ipykernel)",
   "language": "python",
   "name": "python3"
  },
  "language_info": {
   "codemirror_mode": {
    "name": "ipython",
    "version": 3
   },
   "file_extension": ".py",
   "mimetype": "text/x-python",
   "name": "python",
   "nbconvert_exporter": "python",
   "pygments_lexer": "ipython3",
   "version": "3.9.2"
  }
 },
 "nbformat": 4,
 "nbformat_minor": 4
}
